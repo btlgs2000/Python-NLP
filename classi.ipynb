{
 "metadata": {
  "language_info": {
   "codemirror_mode": {
    "name": "ipython",
    "version": 3
   },
   "file_extension": ".py",
   "mimetype": "text/x-python",
   "name": "python",
   "nbconvert_exporter": "python",
   "pygments_lexer": "ipython3",
   "version": "3.7.7-final"
  },
  "orig_nbformat": 2,
  "kernelspec": {
   "name": "python37764bittensorflowconda4a11e7685c9d4f77b472bc84de9da134",
   "display_name": "Python 3.7.7 64-bit ('tensorflow': conda)"
  }
 },
 "nbformat": 4,
 "nbformat_minor": 2,
 "cells": [
  {
   "cell_type": "markdown",
   "metadata": {},
   "source": [
    "# Classi"
   ]
  },
  {
   "cell_type": "code",
   "execution_count": 15,
   "metadata": {},
   "outputs": [],
   "source": [
    "class Matrix:\n",
    "    # tutti i metodi hanno come primo parametro\n",
    "    # un riferimento all'oggetto\n",
    "    def __init__(self, list_):\n",
    "        # attributo dell'oggetto\n",
    "        self.list_ = list_\n",
    "        self.nrows = len(list_)\n",
    "        self.ncols = len(list_[0])\n",
    "        for row in list_:\n",
    "            assert len(row) == self.ncols, 'le righe devono avere la stessa lunghezza'\n",
    "\n",
    "    def __repr__(self):\n",
    "        # rappresentazione priva di ambiguità dell'oggetto\n",
    "        return f'Matrix({self.list_})'\n",
    "\n",
    "    def __str__(self):\n",
    "        # rappresentazione utile per la visualizzazione\n",
    "        # se __str__ non è ridefinito viene utilizzato __repr__\n",
    "        return str(self.list_)\n",
    "\n",
    "    def shape(self):\n",
    "        return self.nrows, self.ncols"
   ]
  },
  {
   "cell_type": "code",
   "execution_count": 16,
   "metadata": {},
   "outputs": [],
   "source": [
    "m = Matrix([[1, 2], [3, 4]])"
   ]
  },
  {
   "cell_type": "code",
   "execution_count": 17,
   "metadata": {
    "tags": []
   },
   "outputs": [
    {
     "output_type": "execute_result",
     "data": {
      "text/plain": "Matrix([[1, 2], [3, 4]])"
     },
     "metadata": {},
     "execution_count": 17
    }
   ],
   "source": [
    "m"
   ]
  },
  {
   "cell_type": "code",
   "execution_count": 20,
   "metadata": {},
   "outputs": [
    {
     "output_type": "execute_result",
     "data": {
      "text/plain": "'Matrix([[1, 2], [3, 4]])'"
     },
     "metadata": {},
     "execution_count": 20
    }
   ],
   "source": [
    "repr(m)"
   ]
  },
  {
   "cell_type": "code",
   "execution_count": 18,
   "metadata": {
    "tags": []
   },
   "outputs": [
    {
     "output_type": "stream",
     "name": "stdout",
     "text": "[[1, 2], [3, 4]]\n"
    }
   ],
   "source": [
    "print(m)"
   ]
  },
  {
   "cell_type": "code",
   "execution_count": 19,
   "metadata": {},
   "outputs": [
    {
     "output_type": "execute_result",
     "data": {
      "text/plain": "'[[1, 2], [3, 4]]'"
     },
     "metadata": {},
     "execution_count": 19
    }
   ],
   "source": [
    "str(m)"
   ]
  },
  {
   "cell_type": "markdown",
   "metadata": {},
   "source": [
    "## class e static methods"
   ]
  },
  {
   "cell_type": "markdown",
   "metadata": {},
   "source": [
    "## Ereditarietà"
   ]
  },
  {
   "cell_type": "markdown",
   "metadata": {},
   "source": [
    "## namedtuple"
   ]
  },
  {
   "cell_type": "code",
   "execution_count": null,
   "metadata": {},
   "outputs": [],
   "source": []
  }
 ]
}